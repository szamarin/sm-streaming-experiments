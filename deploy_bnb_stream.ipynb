{
 "cells": [
  {
   "cell_type": "code",
   "execution_count": null,
   "metadata": {},
   "outputs": [],
   "source": [
    "#%pip install huggingface-hub"
   ]
  },
  {
   "cell_type": "code",
   "execution_count": 1,
   "metadata": {},
   "outputs": [
    {
     "name": "stderr",
     "output_type": "stream",
     "text": [
      "/usr/local/lib/python3.9/dist-packages/tqdm/auto.py:21: TqdmWarning: IProgress not found. Please update jupyter and ipywidgets. See https://ipywidgets.readthedocs.io/en/stable/user_install.html\n",
      "  from .autonotebook import tqdm as notebook_tqdm\n"
     ]
    }
   ],
   "source": [
    "import boto3\n",
    "import sagemaker\n",
    "import json\n",
    "from sagemaker import Model, image_uris, serializers, deserializers\n",
    "from utils import download_model\n",
    "\n",
    "boto3_session=boto3.session.Session(region_name=\"us-west-2\")\n",
    "smr = boto3_session.client('sagemaker-runtime-demo')\n",
    "sm = boto3_session.client('sagemaker')\n",
    "role = sagemaker.get_execution_role()  # execution role for the endpoint\n",
    "sess = sagemaker.session.Session(boto3_session, sagemaker_client=sm, sagemaker_runtime_client=smr)  # sagemaker session for interacting with different AWS APIs\n",
    "bucket = sess.default_bucket()  # sagemaker session for interacting with different AWS APIs\n",
    "region = sess._region_name  # region name of the current SageMaker Studio environment\n"
   ]
  },
  {
   "cell_type": "code",
   "execution_count": 2,
   "metadata": {},
   "outputs": [
    {
     "name": "stdout",
     "output_type": "stream",
     "text": [
      "Model already exists at Llama-2-13B-Chat-fp16\n",
      "Skipping download\n"
     ]
    }
   ],
   "source": [
    "\n",
    "# download non-quantized fp16 model\n",
    "local_model_path = download_model(\"TheBloke/Llama-2-13B-Chat-fp16\", \"./Llama-2-13B-Chat-fp16\")"
   ]
  },
  {
   "cell_type": "code",
   "execution_count": 3,
   "metadata": {},
   "outputs": [],
   "source": [
    "\n",
    "image_uri = f\"763104351884.dkr.ecr.{region}.amazonaws.com/djl-inference:0.23.0-deepspeed0.9.5-cu118\""
   ]
  },
  {
   "cell_type": "code",
   "execution_count": 9,
   "metadata": {},
   "outputs": [],
   "source": [
    "s3_model_location = sess.upload_data(path=local_model_path.as_posix(), bucket=bucket, key_prefix=\"Llama-2-13B-chat-fp16\")"
   ]
  },
  {
   "cell_type": "code",
   "execution_count": 10,
   "metadata": {},
   "outputs": [],
   "source": [
    "!sed -i \"s|\\(option\\.s3url=\\).*|\\1$s3_model_location|\" bnb-stream/serving.properties"
   ]
  },
  {
   "cell_type": "code",
   "execution_count": 11,
   "metadata": {},
   "outputs": [
    {
     "name": "stdout",
     "output_type": "stream",
     "text": [
      "bnb-stream/\n",
      "bnb-stream/requirements.txt\n",
      "bnb-stream/__pycache__/\n",
      "bnb-stream/__pycache__/model.cpython-39.pyc\n",
      "bnb-stream/serving.properties\n",
      "bnb-stream/model.py\n"
     ]
    }
   ],
   "source": [
    "%%sh\n",
    "tar czvf gptq_stream.tar.gz bnb-stream/\n"
   ]
  },
  {
   "cell_type": "code",
   "execution_count": 12,
   "metadata": {},
   "outputs": [
    {
     "name": "stdout",
     "output_type": "stream",
     "text": [
      "S3 Code or Model tar ball uploaded to --- > s3://sagemaker-us-west-2-152804913371/quantized-models/gptq-stream/gptq_stream.tar.gz\n"
     ]
    }
   ],
   "source": [
    "s3_code_prefix = \"quantized-models/gptq-stream\"\n",
    "code_artifact = sess.upload_data(\"gptq_stream.tar.gz\", bucket, s3_code_prefix)\n",
    "print(f\"S3 Code or Model tar ball uploaded to --- > {code_artifact}\")\n",
    "env = {\"HUGGINGFACE_HUB_CACHE\": \"/tmp\", \"TRANSFORMERS_CACHE\": \"/tmp\"}\n",
    "\n",
    "model = Model(sagemaker_session=sess, image_uri=image_uri, model_data=code_artifact, env=env, role=role)"
   ]
  },
  {
   "cell_type": "code",
   "execution_count": 13,
   "metadata": {},
   "outputs": [
    {
     "name": "stdout",
     "output_type": "stream",
     "text": [
      "------------------!"
     ]
    }
   ],
   "source": [
    "instance_type = \"ml.g5.2xlarge\"\n",
    "endpoint_name = sagemaker.utils.name_from_base(\"bnb-stream\")\n",
    "\n",
    "model.deploy(\n",
    "    initial_instance_count=1,\n",
    "    instance_type=instance_type,\n",
    "    endpoint_name=endpoint_name,\n",
    ")"
   ]
  },
  {
   "cell_type": "code",
   "execution_count": 15,
   "metadata": {},
   "outputs": [
    {
     "name": "stdout",
     "output_type": "stream",
     "text": [
      " Bonjour! Paris, the City of Light, is a beautiful destination with a rich history, culture, and entertainment. Here are some suggestions for your trip:\n",
      "\n",
      "1. Explore iconic landmarks: Visit the Eiffel Tower, the Louvre Museum, Notre-Dame Cathedral, and the Arc de Triomphe. Take a river cruise along the Seine to see these attractions from a different perspective.\n",
      "2. Discover charming neighborhoods: Wander through Montmartre, Saint-Germain-des-Prés, and the Latin Quarter to experience the city's vibrant street art, cafés, and boutiques.\n",
      "3. Enjoy French cuisine: Indulge in delicious pastries, cheeses, and wine at a traditional bistro or restaurant. Don't forget to try escargots, croissants, and macarons!\n",
      "4. Attend a cultural event: Catch a ballet or opera performance at the Palais Garnier, or visit the Musée d'Orsay for an impressive collection of Impressionist art.\n",
      "5. Relax in beautiful gardens: Stroll through the Luxembourg Gardens, the Tuileries Garden, or the Jardin des Plantes to escape the hustle and bustle of the city.\n",
      "6. Shop at Galeries Lafayette: This iconic department store offers a unique shopping experience with its stunning architecture and upscale brands.\n",
      "7. Visit a famous market: Explore the Marché aux Puces (flea market) or the Marché d'Aligre (food market) for a taste of local culture and unique souvenirs.\n",
      "8. Take a day trip: Consider visiting the Palace of Versailles, the Normandy beaches, or the Reims Cathedral for a glimpse of France's rich history and architecture.\n",
      "9. Enjoy the city's green spaces: Escape to the Bois de Boulogne or the Bois de Vincennes for a picnic, a bike ride, or a leisurely stroll.\n",
      "10. Learn about French history and culture: Visit the Musée Carnavalet, the Musée de la Vie Romantique, or the Musée Grévin for a deeper understanding of the city's heritage.\n",
      "\n",
      "Remember to respect local customs, dress appropriately for the weather, and stay safe by being aware of your surroundings and keeping valuables secure. Have a wonderful time in Paris!</s>"
     ]
    }
   ],
   "source": [
    "# invoke with streaming enabled\n",
    "\n",
    "prompt = \"I'm going to Paris. What should I do there?\"\n",
    "prompt_template=f'''[INST] <<SYS>>\n",
    "You are a helpful, respectful and honest assistant. Always answer as helpfully as possible, while being safe.  Your answers should not include any harmful, unethical, racist, sexist, toxic, dangerous, or illegal content. Please ensure that your responses are socially unbiased and positive in nature. If a question does not make any sense, or is not factually coherent, explain why instead of answering something not correct. If you don't know the answer to a question, please don't share false information.\n",
    "<</SYS>>\n",
    "{prompt}[/INST]'''\n",
    "\n",
    "\n",
    "\n",
    "body = {\"prompt\": prompt_template, \"model_kwargs\": {\"max_new_tokens\":1000, \"temperature\":0.8, \"stream_enabled\": True}}\n",
    "resp = smr.invoke_endpoint_with_response_stream(EndpointName=endpoint_name, Body=json.dumps(body), ContentType=\"application/json\")\n",
    "event_stream = resp['Body']\n",
    "\n",
    "for event in event_stream:\n",
    "    print(json.loads(event['PayloadPart']['Bytes'].decode('utf-8'))[\"outputs\"], end=\"\")"
   ]
  },
  {
   "cell_type": "code",
   "execution_count": 16,
   "metadata": {},
   "outputs": [
    {
     "name": "stdout",
     "output_type": "stream",
     "text": [
      "  Bonjour! Paris, the City of Light, is a beautiful destination with a rich history, culture, and entertainment. Here are some suggestions for your trip:\n",
      "\n",
      "1. Explore iconic landmarks: Visit the Eiffel Tower, the Louvre Museum, Notre-Dame Cathedral, and the Arc de Triomphe. Take a river cruise along the Seine to see these attractions from a different perspective.\n",
      "2. Discover charming neighborhoods: Wander through Montmartre, Saint-Germain-des-Prés, and the Latin Quarter to experience the city's vibrant street art, cafés, and boutiques.\n",
      "3. Enjoy French cuisine: Indulge in delicious pastries, cheeses, and wine at a traditional bistro or restaurant. Don't forget to try escargots, croissants, and macarons!\n",
      "4. Attend a cultural event: Catch a ballet or opera performance at the Palais Garnier, or visit the Musée d'Orsay for an impressive collection of Impressionist art.\n",
      "5. Relax in beautiful gardens: Stroll through the Luxembourg Gardens, the Tuileries Garden, or the Jardin des Plantes to escape the hustle and bustle of the city.\n",
      "6. Shop at Galeries Lafayette: This iconic department store offers a unique shopping experience with its stunning architecture and upscale brands.\n",
      "7. Visit a famous market: Explore the Marché aux Puces (flea market) or the Marché d'Aligre (food market) for a taste of local culture and unique souvenirs.\n",
      "8. Take a day trip: Consider visiting the Palace of Versailles, the Normandy beaches, or the Reims Cathedral for a glimpse of France's rich history and architecture.\n",
      "9. Enjoy the city's green spaces: Escape to the Bois de Boulogne or the Bois de Vincennes for a picnic, a bike ride, or a leisurely stroll.\n",
      "10. Learn about French history and culture: Visit the Musée Carnavalet, the Musée de la Vie Romantique, or the Musée Grévin for a deeper understanding of the city's heritage.\n",
      "\n",
      "Remember to respect local customs, dress appropriately for the weather, and stay safe by being aware of your surroundings and keeping valuables secure. Have a wonderful time in Paris!\n"
     ]
    }
   ],
   "source": [
    "# invoke with streaming disabled\n",
    "\n",
    "body = {\"prompt\": prompt_template, \"model_kwargs\": {\"max_new_tokens\":1000, \"temperature\":0.8, \"stream_enabled\": False}}\n",
    "resp = smr.invoke_endpoint(EndpointName=endpoint_name, Body=json.dumps(body), ContentType=\"application/json\")\n",
    "output = resp[\"Body\"].read().decode(\"utf-8\")\n",
    "print(output)"
   ]
  },
  {
   "cell_type": "code",
   "execution_count": 18,
   "metadata": {},
   "outputs": [],
   "source": [
    "sess.delete_endpoint(endpoint_name)\n",
    "sess.delete_endpoint_config(endpoint_name)\n",
    "model.delete_model()"
   ]
  },
  {
   "cell_type": "code",
   "execution_count": null,
   "metadata": {},
   "outputs": [],
   "source": []
  }
 ],
 "metadata": {
  "kernelspec": {
   "display_name": "Python 3",
   "language": "python",
   "name": "python3"
  },
  "language_info": {
   "codemirror_mode": {
    "name": "ipython",
    "version": 3
   },
   "file_extension": ".py",
   "mimetype": "text/x-python",
   "name": "python",
   "nbconvert_exporter": "python",
   "pygments_lexer": "ipython3",
   "version": "3.9.16"
  },
  "orig_nbformat": 4
 },
 "nbformat": 4,
 "nbformat_minor": 2
}
