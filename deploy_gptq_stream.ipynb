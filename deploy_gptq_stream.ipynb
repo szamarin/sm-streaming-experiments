{
 "cells": [
  {
   "cell_type": "code",
   "execution_count": null,
   "metadata": {},
   "outputs": [],
   "source": [
    "#%pip install huggingface-hub"
   ]
  },
  {
   "cell_type": "code",
   "execution_count": 1,
   "metadata": {},
   "outputs": [
    {
     "name": "stderr",
     "output_type": "stream",
     "text": [
      "/usr/local/lib/python3.9/dist-packages/tqdm/auto.py:21: TqdmWarning: IProgress not found. Please update jupyter and ipywidgets. See https://ipywidgets.readthedocs.io/en/stable/user_install.html\n",
      "  from .autonotebook import tqdm as notebook_tqdm\n"
     ]
    }
   ],
   "source": [
    "import boto3\n",
    "import sagemaker\n",
    "import json\n",
    "from sagemaker import Model, image_uris, serializers, deserializers\n",
    "from utils import download_model\n",
    "\n",
    "boto3_session=boto3.session.Session(region_name=\"us-west-2\")\n",
    "smr = boto3_session.client('sagemaker-runtime-demo')\n",
    "sm = boto3_session.client('sagemaker')\n",
    "role = sagemaker.get_execution_role()  # execution role for the endpoint\n",
    "sess = sagemaker.session.Session(boto3_session, sagemaker_client=sm, sagemaker_runtime_client=smr)  # sagemaker session for interacting with different AWS APIs\n",
    "bucket = sess.default_bucket()  # sagemaker session for interacting with different AWS APIs\n",
    "region = sess._region_name  # region name of the current SageMaker Studio environment\n"
   ]
  },
  {
   "cell_type": "code",
   "execution_count": 2,
   "metadata": {},
   "outputs": [
    {
     "name": "stdout",
     "output_type": "stream",
     "text": [
      "Model already exists at Llama-2-13B-chat-GPTQ\n",
      "Skipping download\n"
     ]
    }
   ],
   "source": [
    "\n",
    "# download quantized model\n",
    "local_model_path = download_model(\"TheBloke/Llama-2-13B-chat-GPTQ\", \"./Llama-2-13B-chat-GPTQ\")"
   ]
  },
  {
   "cell_type": "code",
   "execution_count": 3,
   "metadata": {},
   "outputs": [],
   "source": [
    "\n",
    "image_uri = f\"763104351884.dkr.ecr.{region}.amazonaws.com/djl-inference:0.23.0-deepspeed0.9.5-cu118\""
   ]
  },
  {
   "cell_type": "code",
   "execution_count": 4,
   "metadata": {},
   "outputs": [],
   "source": [
    "s3_model_location = sess.upload_data(path=local_model_path.as_posix(), bucket=bucket, key_prefix=\"Llama-2-13B-chat-GPTQ\")"
   ]
  },
  {
   "cell_type": "code",
   "execution_count": 5,
   "metadata": {},
   "outputs": [],
   "source": [
    "!sed -i \"s|\\(option\\.s3url=\\).*|\\1$s3_model_location|\" gptq-stream/serving.properties"
   ]
  },
  {
   "cell_type": "code",
   "execution_count": 6,
   "metadata": {},
   "outputs": [
    {
     "name": "stdout",
     "output_type": "stream",
     "text": [
      "gptq-stream/\n",
      "gptq-stream/requirements.txt\n",
      "gptq-stream/__pycache__/\n",
      "gptq-stream/__pycache__/model.cpython-39.pyc\n",
      "gptq-stream/serving.properties\n",
      "gptq-stream/model.py\n"
     ]
    }
   ],
   "source": [
    "%%sh\n",
    "tar czvf gptq_stream.tar.gz gptq-stream/\n"
   ]
  },
  {
   "cell_type": "code",
   "execution_count": 7,
   "metadata": {},
   "outputs": [
    {
     "name": "stdout",
     "output_type": "stream",
     "text": [
      "S3 Code or Model tar ball uploaded to --- > s3://sagemaker-us-west-2-152804913371/quantized-models/gptq-stream/gptq_stream.tar.gz\n"
     ]
    }
   ],
   "source": [
    "s3_code_prefix = \"quantized-models/gptq-stream\"\n",
    "code_artifact = sess.upload_data(\"gptq_stream.tar.gz\", bucket, s3_code_prefix)\n",
    "print(f\"S3 Code or Model tar ball uploaded to --- > {code_artifact}\")\n",
    "env = {\"HUGGINGFACE_HUB_CACHE\": \"/tmp\", \"TRANSFORMERS_CACHE\": \"/tmp\"}\n",
    "\n",
    "model = Model(sagemaker_session=sess, image_uri=image_uri, model_data=code_artifact, env=env, role=role)"
   ]
  },
  {
   "cell_type": "code",
   "execution_count": 8,
   "metadata": {},
   "outputs": [
    {
     "name": "stdout",
     "output_type": "stream",
     "text": [
      "------------------!"
     ]
    }
   ],
   "source": [
    "instance_type = \"ml.g5.2xlarge\"\n",
    "endpoint_name = sagemaker.utils.name_from_base(\"gptq-stream\")\n",
    "\n",
    "model.deploy(\n",
    "    initial_instance_count=1,\n",
    "    instance_type=instance_type,\n",
    "    endpoint_name=endpoint_name,\n",
    ")"
   ]
  },
  {
   "cell_type": "code",
   "execution_count": 15,
   "metadata": {},
   "outputs": [],
   "source": [
    "import time \n",
    "time.sleep(20)"
   ]
  },
  {
   "cell_type": "code",
   "execution_count": 17,
   "metadata": {},
   "outputs": [
    {
     "name": "stdout",
     "output_type": "stream",
     "text": [
      " Bonjour! Paris, the City of Light, is a beautiful and vibrant destination that offers a wide range of activities and experiences for visitors. Here are some suggestions for things to do while you're there:\n",
      "\n",
      "1. Explore iconic landmarks: Paris is home to many famous landmarks like the Eiffel Tower, Notre-Dame Cathedral, the Louvre Museum, and the Arc de Triomphe. Take a guided tour or simply admire these iconic structures on your own.\n",
      "2. Stroll along the Seine: The Seine River is the lifeblood of Paris, and a stroll along its banks is a must-do activity. Take in the city's beauty, street performers, and boat tours.\n",
      "3. Discover art and culture: Paris is known for its artistic heritage, and you can explore numerous museums like the Louvre, Musée d'Orsay, and the Pompidou Center. Each museum offers a unique collection of art and artifacts that showcase French culture and history.\n",
      "4. Enjoy the city's green spaces: Paris has many beautiful parks and gardens, such as the Luxembourg Gardens, the Tuileries Garden, and the Champ de Mars. These green oases offer a peaceful escape from the hustle and bustle of the city.\n",
      "5. Indulge in French cuisine: Paris is renowned for its gastronomy, and you can sample some of the city's famous dishes like escargots, croissants, and macarons. Don't forget to visit a traditional French bakery or patisserie to try some delicious pastries and cakes.\n",
      "6. Attend a cabaret show: The Moulin Rouge and the Lido de Paris are two famous cabarets that offer a night of entertainment, music, and dance. These shows are a great way to experience French culture and history.\n",
      "7. Take a day trip: Paris is surrounded by beautiful towns and villages, such as Versailles, Reims, and Giverny. These destinations offer a glimpse into France's rich history and culture.\n",
      "8. Shop at Galeries Lafayette: Galeries Lafayette is a famous department store that offers a wide range of French fashion, beauty, and home goods. The store's rooftop terrace offers stunning views of the city.\n",
      "9. Attend a fashion show: Paris is the fashion capital of the world, and you can attend a fashion show to see the latest trends and designs. Many fashion houses like Chanel, Dior, and Yves Saint Laurent offer public shows and exhibitions.\n",
      "10. Take a river cruise: A river cruise along the Seine is a great way to see the city's landmarks and bridges while learning about its history and culture.\n",
      "\n",
      "Remember to always prioritize your safety and well-being, especially when traveling to a new city. Be mindful of pickpocketing and petty theft, and avoid carrying large amounts of cash or valuables. Enjoy your trip to Paris!</s>"
     ]
    }
   ],
   "source": [
    "# invoke with streaming enabled\n",
    "\n",
    "prompt = \"I'm going to Paris. What should I do there?\"\n",
    "prompt_template=f'''[INST] <<SYS>>\n",
    "You are a helpful, respectful and honest assistant. Always answer as helpfully as possible, while being safe.  Your answers should not include any harmful, unethical, racist, sexist, toxic, dangerous, or illegal content. Please ensure that your responses are socially unbiased and positive in nature. If a question does not make any sense, or is not factually coherent, explain why instead of answering something not correct. If you don't know the answer to a question, please don't share false information.\n",
    "<</SYS>>\n",
    "{prompt}[/INST]'''\n",
    "\n",
    "\n",
    "\n",
    "body = {\"prompt\": prompt_template, \"model_kwargs\": {\"max_new_tokens\":1000, \"temperature\":0.8, \"stream_enabled\": True}}\n",
    "resp = smr.invoke_endpoint_with_response_stream(EndpointName=endpoint_name, Body=json.dumps(body), ContentType=\"application/json\")\n",
    "event_stream = resp['Body']\n",
    "\n",
    "for event in event_stream:\n",
    "    print(json.loads(event['PayloadPart']['Bytes'].decode('utf-8'))[\"outputs\"], end=\"\")"
   ]
  },
  {
   "cell_type": "code",
   "execution_count": 20,
   "metadata": {},
   "outputs": [
    {
     "name": "stdout",
     "output_type": "stream",
     "text": [
      "  Bonjour! Paris, the City of Light, is a beautiful and vibrant destination that offers a wide range of activities and experiences for visitors. Here are some suggestions for things to do while you're there:\n",
      "\n",
      "1. Explore iconic landmarks: Paris is home to many famous landmarks like the Eiffel Tower, Notre-Dame Cathedral, the Louvre Museum, and the Arc de Triomphe. Take a guided tour or simply admire these iconic structures on your own.\n",
      "2. Stroll along the Seine: The Seine River is the lifeblood of Paris, and a stroll along its banks is a must-do activity. Take in the city's beauty, street performers, and boat tours.\n",
      "3. Discover art and culture: Paris is known for its artistic heritage, and you can explore numerous museums like the Louvre, Musée d'Orsay, and the Pompidou Center. Each museum offers a unique collection of art and artifacts that showcase French culture and history.\n",
      "4. Enjoy the city's green spaces: Paris has many beautiful parks and gardens, such as the Luxembourg Gardens, the Tuileries Garden, and the Champ de Mars. These green oases offer a peaceful escape from the hustle and bustle of the city.\n",
      "5. Indulge in French cuisine: Paris is renowned for its gastronomy, and you can sample some of the city's famous dishes like escargots, croissants, and macarons. Don't forget to visit a traditional French bakery or patisserie to try some delicious pastries and cakes.\n",
      "6. Attend a cabaret show: The Moulin Rouge and the Lido de Paris are two famous cabarets that offer a night of entertainment, music, and dance. These shows are a great way to experience French culture and history.\n",
      "7. Take a day trip: Paris is surrounded by beautiful towns and villages, such as Versailles, Reims, and Giverny. These destinations offer a glimpse into France's rich history and culture.\n",
      "8. Shop at Galeries Lafayette: Galeries Lafayette is a famous department store that offers a wide range of French fashion, beauty, and home goods. The store's rooftop terrace offers stunning views of the city.\n",
      "9. Attend a fashion show: Paris is the fashion capital of the world, and you can attend a fashion show to see the latest trends and designs. Many fashion houses like Chanel, Dior, and Yves Saint Laurent offer public shows and exhibitions.\n",
      "10. Take a river cruise: A river cruise along the Seine is a great way to see the city's landmarks and bridges while learning about its history and culture.\n",
      "\n",
      "Remember to always prioritize your safety and well-being, especially when traveling to a new city. Be mindful of pickpocketing and petty theft, and avoid carrying large amounts of cash or valuables. Enjoy your trip to Paris!\n"
     ]
    }
   ],
   "source": [
    "# invoke with streaming disabled\n",
    "\n",
    "body = {\"prompt\": prompt_template, \"model_kwargs\": {\"max_new_tokens\":1000, \"temperature\":0.8, \"stream_enabled\": False}}\n",
    "resp = smr.invoke_endpoint(EndpointName=endpoint_name, Body=json.dumps(body), ContentType=\"application/json\")\n",
    "output = resp[\"Body\"].read().decode(\"utf-8\")\n",
    "print(output)"
   ]
  },
  {
   "cell_type": "code",
   "execution_count": null,
   "metadata": {},
   "outputs": [],
   "source": [
    "sess.delete_endpoint(endpoint_name)\n",
    "sess.delete_endpoint_config(endpoint_name)\n",
    "model.delete_model()"
   ]
  },
  {
   "cell_type": "code",
   "execution_count": null,
   "metadata": {},
   "outputs": [],
   "source": []
  }
 ],
 "metadata": {
  "kernelspec": {
   "display_name": "Python 3",
   "language": "python",
   "name": "python3"
  },
  "language_info": {
   "codemirror_mode": {
    "name": "ipython",
    "version": 3
   },
   "file_extension": ".py",
   "mimetype": "text/x-python",
   "name": "python",
   "nbconvert_exporter": "python",
   "pygments_lexer": "ipython3",
   "version": "3.9.16"
  },
  "orig_nbformat": 4
 },
 "nbformat": 4,
 "nbformat_minor": 2
}
